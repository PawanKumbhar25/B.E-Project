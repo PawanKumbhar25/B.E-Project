{
 "cells": [
  {
   "cell_type": "code",
   "execution_count": 4,
   "id": "0bdd56b0-abe6-4f59-93b7-3223bbdbc458",
   "metadata": {},
   "outputs": [
    {
     "name": "stdout",
     "output_type": "stream",
     "text": [
      "Hello Pawan\n"
     ]
    }
   ],
   "source": [
    "#First Step \n",
    "\n",
    "print(\"Hello Pawan\")"
   ]
  },
  {
   "cell_type": "code",
   "execution_count": null,
   "id": "80ca58f2-5b2d-4cec-9f35-d093c0c96fdb",
   "metadata": {},
   "outputs": [],
   "source": []
  }
 ],
 "metadata": {
  "kernelspec": {
   "display_name": "Python 3 (ipykernel)",
   "language": "python",
   "name": "python3"
  },
  "language_info": {
   "codemirror_mode": {
    "name": "ipython",
    "version": 3
   },
   "file_extension": ".py",
   "mimetype": "text/x-python",
   "name": "python",
   "nbconvert_exporter": "python",
   "pygments_lexer": "ipython3",
   "version": "3.12.0"
  }
 },
 "nbformat": 4,
 "nbformat_minor": 5
}
